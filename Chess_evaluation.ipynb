{
  "nbformat": 4,
  "nbformat_minor": 0,
  "metadata": {
    "colab": {
      "provenance": [],
      "authorship_tag": "ABX9TyPsU5tusoz2BFEePcHIrW73",
      "include_colab_link": true
    },
    "kernelspec": {
      "name": "python3",
      "display_name": "Python 3"
    },
    "language_info": {
      "name": "python"
    }
  },
  "cells": [
    {
      "cell_type": "markdown",
      "metadata": {
        "id": "view-in-github",
        "colab_type": "text"
      },
      "source": [
        "<a href=\"https://colab.research.google.com/github/JamesC-07/Introduction/blob/main/Chess_evaluation.ipynb\" target=\"_parent\"><img src=\"https://colab.research.google.com/assets/colab-badge.svg\" alt=\"Open In Colab\"/></a>"
      ]
    },
    {
      "cell_type": "code",
      "execution_count": 9,
      "metadata": {
        "colab": {
          "base_uri": "https://localhost:8080/"
        },
        "id": "WKqE_8O6Sdu_",
        "outputId": "6adcc4a3-506b-41f9-ff7e-f4720ba9c45b"
      },
      "outputs": [
        {
          "output_type": "stream",
          "name": "stdout",
          "text": [
            "White Score: 46.50\n",
            "Black Score: 46.40\n",
            "Final Evaluation (W - B): 0.10\n"
          ]
        }
      ],
      "source": [
        "# 🔍 Custom Chess Position Evaluator\n",
        "\n",
        "# 👉 Fill in values for both White and Black below:\n",
        "\n",
        "# === WHITE ===\n",
        "Poo_W = 3       # Pawns in front of king (same/adjacent files, within 2 ranks)\n",
        "DIF_W = 2       # Allied pieces controlling squares near king\n",
        "CA_W = 0        # Open files in front of king\n",
        "CSA_W = 0       # Semi-open files\n",
        "TK_W = 0        # Enemy control near king\n",
        "h_W = 1         # King's rank\n",
        "A_W = 31        # Total allied controlled squares\n",
        "C_W = 7         # Control of central squares\n",
        "IP_W = 1        # Pawn islands\n",
        "W_W = 0         # Isolated pawns\n",
        "R_W = 0         # Retrograded pawns\n",
        "Pp_W = 0        # Passed pawns\n",
        "S_W = 7         # Squares controlled in enemy territory\n",
        "M_W = 39        # Material count (P=1, N=3, B=3, R=5, Q=9)\n",
        "\n",
        "# === BLACK ===\n",
        "Poo_B = 3\n",
        "DIF_B = 3\n",
        "CA_B = 0\n",
        "CSA_B = 0\n",
        "TK_B = 0\n",
        "h_B = 1\n",
        "A_B = 30\n",
        "C_B = 4\n",
        "IP_B = 1\n",
        "W_B = 0\n",
        "R_B = 0\n",
        "Pp_B = 0\n",
        "S_B = 11\n",
        "M_B = 39\n",
        "\n",
        "# === CALCULATIONS ===\n",
        "\n",
        "# White formula\n",
        "white_score = (\n",
        "    (Poo_W * 0.7) + (DIF_W * 0.2)\n",
        "    - ((CA_W * 1 + CSA_W) + (TK_W * 0.5) + (2**(h_W - 1) - 1))\n",
        "    + ((A_W * 0.1) + (C_W * 0.2))\n",
        "    - ((IP_W * 0.2) + (W_W + R_W - Pp_W))\n",
        "    + ((S_W * 0.1) + M_W)\n",
        ")\n",
        "\n",
        "# Black formula\n",
        "black_score = (\n",
        "    (Poo_B * 0.7) + (DIF_B * 0.2)\n",
        "    - ((CA_B * 1.5 + CSA_B) + (TK_B * 0.5) + (2**(h_B - 1) - 1))\n",
        "    + ((A_B * 0.1) + (C_B * 0.2))\n",
        "    - ((IP_B * 0.2) + (W_B + R_B - Pp_B))\n",
        "    + ((S_B * 0.1) + M_B)\n",
        ")\n",
        "\n",
        "# Evaluation\n",
        "evaluation = white_score - black_score\n",
        "\n",
        "# Output\n",
        "print(f\"White Score: {white_score:.2f}\")\n",
        "print(f\"Black Score: {black_score:.2f}\")\n",
        "print(f\"Final Evaluation (W - B): {evaluation:.2f}\")\n"
      ]
    }
  ]
}